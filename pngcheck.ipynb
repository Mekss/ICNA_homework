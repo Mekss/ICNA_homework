{
 "cells": [
  {
   "cell_type": "markdown",
   "id": "e66be581-fc64-4099-bb47-ef60a9123e50",
   "metadata": {},
   "source": [
    "#from IPython.display import Image\n",
    "\n",
    "![ddddd](PNG_transparency_demonstration_1.png)"
   ]
  }
 ],
 "metadata": {
  "kernelspec": {
   "display_name": "Python 3",
   "language": "python",
   "name": "python3"
  },
  "language_info": {
   "codemirror_mode": {
    "name": "ipython",
    "version": 3
   },
   "file_extension": ".py",
   "mimetype": "text/x-python",
   "name": "python",
   "nbconvert_exporter": "python",
   "pygments_lexer": "ipython3",
   "version": "3.8.8"
  }
 },
 "nbformat": 4,
 "nbformat_minor": 5
}
